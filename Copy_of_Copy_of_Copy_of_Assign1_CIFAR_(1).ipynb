{
  "nbformat": 4,
  "nbformat_minor": 0,
  "metadata": {
    "kernelspec": {
      "display_name": "Python 3",
      "language": "python",
      "name": "python3"
    },
    "language_info": {
      "codemirror_mode": {
        "name": "ipython",
        "version": 3
      },
      "file_extension": ".py",
      "mimetype": "text/x-python",
      "name": "python",
      "nbconvert_exporter": "python",
      "pygments_lexer": "ipython3",
      "version": "3.7.4"
    },
    "colab": {
      "name": "Copy of Copy of Copy of Assign1_CIFAR (1).ipynb",
      "provenance": [],
      "collapsed_sections": [],
      "include_colab_link": true
    },
    "accelerator": "GPU"
  },
  "cells": [
    {
      "cell_type": "markdown",
      "metadata": {
        "id": "view-in-github",
        "colab_type": "text"
      },
      "source": [
        "<a href=\"https://colab.research.google.com/github/ponvani/Bits/blob/master/Copy_of_Copy_of_Copy_of_Assign1_CIFAR_(1).ipynb\" target=\"_parent\"><img src=\"https://colab.research.google.com/assets/colab-badge.svg\" alt=\"Open In Colab\"/></a>"
      ]
    },
    {
      "cell_type": "markdown",
      "metadata": {
        "id": "EsBuNtmuKw1M"
      },
      "source": [
        "# Deep Neural Network with Dropout using Keras"
      ]
    },
    {
      "cell_type": "markdown",
      "metadata": {
        "id": "aZ-6bg2fKw1f"
      },
      "source": [
        "DL Assignment Group: 70 \n",
        "\n",
        "Question No.1. Vision Dataset: CIFAR-10- It dataset consists of 60000 32x32 colour images in 10 classes.\n",
        "    \n",
        "    Ponvani(2018ac04559)\n",
        "    Poornima(2018ac045)\n",
        "    Aparna(2018ac045)"
      ]
    },
    {
      "cell_type": "markdown",
      "metadata": {
        "id": "2JUjqb7vKw1h"
      },
      "source": [
        "## Import Libraries/Dataset (0.25 mark)"
      ]
    },
    {
      "cell_type": "markdown",
      "metadata": {
        "id": "PjI5AA2hKw1j"
      },
      "source": [
        "#### a. Import required libraries (recommended- use tensorflow/keras library)."
      ]
    },
    {
      "cell_type": "code",
      "metadata": {
        "id": "Al1Z_MURKw1l"
      },
      "source": [
        "import tensorflow as tf\n",
        "\n",
        "from tensorflow.keras import models\n",
        "from tensorflow.keras import layers\n",
        "from tensorflow.keras import regularizers\n",
        "from keras.layers import Lambda,Dropout,Dense,Flatten,Activation,Conv2D\n",
        "\n",
        "\n",
        "import random\n",
        "import numpy as np\n",
        "\n",
        "import matplotlib.pyplot as plt\n",
        "%matplotlib inline"
      ],
      "execution_count": 5,
      "outputs": []
    },
    {
      "cell_type": "code",
      "metadata": {
        "id": "j9Fhkw5DKw19"
      },
      "source": [
        "random.seed(42)         # Initialize the random number generator.\n",
        "np.random.seed(42)      # With the seed reset, the same set of numbers will appear every time. \n",
        "#tf.set_random_seed(42)  # sets the graph-level random seed"
      ],
      "execution_count": 6,
      "outputs": []
    },
    {
      "cell_type": "markdown",
      "metadata": {
        "id": "74zOK2gjKw2O"
      },
      "source": [
        "#### b. Import the dataset (use Google Drive if required)."
      ]
    },
    {
      "cell_type": "code",
      "metadata": {
        "id": "BBUcBR_2Kw2W",
        "outputId": "9950f390-9721-45a8-ba1c-e89800a111de",
        "colab": {
          "base_uri": "https://localhost:8080/",
          "height": 51
        }
      },
      "source": [
        "# Use the cifar10 dataset of Keras.\n",
        "\n",
        "cifar = tf.keras.datasets.cifar10\n",
        "(Xtrain, Ytrain) , (Xtest, Ytest) = cifar.load_data()"
      ],
      "execution_count": 7,
      "outputs": [
        {
          "output_type": "stream",
          "text": [
            "Downloading data from https://www.cs.toronto.edu/~kriz/cifar-10-python.tar.gz\n",
            "170500096/170498071 [==============================] - 4s 0us/step\n"
          ],
          "name": "stdout"
        }
      ]
    },
    {
      "cell_type": "markdown",
      "metadata": {
        "id": "tpmwW0TCKw2f"
      },
      "source": [
        "#### c. Check the GPU available (recommended- use free GPU provided by Google Colab)."
      ]
    },
    {
      "cell_type": "code",
      "metadata": {
        "id": "D47-eZ20Kw2g",
        "outputId": "d54631fc-4da3-4f83-e913-bae015f68506",
        "colab": {
          "base_uri": "https://localhost:8080/",
          "height": 357
        }
      },
      "source": [
        "!nvidia-smi"
      ],
      "execution_count": 23,
      "outputs": [
        {
          "output_type": "stream",
          "text": [
            "Thu Oct  8 10:35:36 2020       \n",
            "+-----------------------------------------------------------------------------+\n",
            "| NVIDIA-SMI 455.23.05    Driver Version: 418.67       CUDA Version: 10.1     |\n",
            "|-------------------------------+----------------------+----------------------+\n",
            "| GPU  Name        Persistence-M| Bus-Id        Disp.A | Volatile Uncorr. ECC |\n",
            "| Fan  Temp  Perf  Pwr:Usage/Cap|         Memory-Usage | GPU-Util  Compute M. |\n",
            "|                               |                      |               MIG M. |\n",
            "|===============================+======================+======================|\n",
            "|   0  Tesla P100-PCIE...  Off  | 00000000:00:04.0 Off |                    0 |\n",
            "| N/A   41C    P0    34W / 250W |   1065MiB / 16280MiB |      0%      Default |\n",
            "|                               |                      |                 ERR! |\n",
            "+-------------------------------+----------------------+----------------------+\n",
            "                                                                               \n",
            "+-----------------------------------------------------------------------------+\n",
            "| Processes:                                                                  |\n",
            "|  GPU   GI   CI        PID   Type   Process name                  GPU Memory |\n",
            "|        ID   ID                                                   Usage      |\n",
            "|=============================================================================|\n",
            "|  No running processes found                                                 |\n",
            "+-----------------------------------------------------------------------------+\n"
          ],
          "name": "stdout"
        }
      ]
    },
    {
      "cell_type": "markdown",
      "metadata": {
        "id": "EesaljbqKw2r"
      },
      "source": [
        "## 2. Data Visualization (0.25 mark)"
      ]
    },
    {
      "cell_type": "code",
      "metadata": {
        "id": "o3BZTZvNzLHh"
      },
      "source": [
        "class_names = np.unique(Ytrain)"
      ],
      "execution_count": 25,
      "outputs": []
    },
    {
      "cell_type": "markdown",
      "metadata": {
        "id": "N5woFnCJKw2t"
      },
      "source": [
        "#### a. Plot at least one sample from each class of the dataset (use matplotlib/seaborn/any other library)."
      ]
    },
    {
      "cell_type": "code",
      "metadata": {
        "id": "S0itWQU7Kw2x",
        "outputId": "daa0c501-1f72-40c8-826a-f3fa959ab181",
        "colab": {
          "base_uri": "https://localhost:8080/",
          "height": 266
        }
      },
      "source": [
        "# View first image\n",
        "import matplotlib.pyplot as plt\n",
        "plt.imshow(Xtrain[1])\n",
        "plt.show()"
      ],
      "execution_count": 8,
      "outputs": [
        {
          "output_type": "display_data",
          "data": {
            "image/png": "[encoded data removed]",
            "text/plain": [
              "<Figure size 432x288 with 1 Axes>"
            ]
          },
          "metadata": {
            "tags": [],
            "needs_background": "light"
          }
        }
      ]
    },
    {
      "cell_type": "code",
      "metadata": {
        "id": "FyVrddvGKw26",
        "outputId": "5f3ce713-f3e1-41de-f858-b952f864d7eb",
        "colab": {
          "base_uri": "https://localhost:8080/",
          "height": 266
        }
      },
      "source": [
        "plt.imshow(Xtest[1])\n",
        "plt.show()"
      ],
      "execution_count": 9,
      "outputs": [
        {
          "output_type": "display_data",
          "data": {
            "image/png": "[encoded data removed]",
            "text/plain": [
              "<Figure size 432x288 with 1 Axes>"
            ]
          },
          "metadata": {
            "tags": [],
            "needs_background": "light"
          }
        }
      ]
    },
    {
      "cell_type": "code",
      "metadata": {
        "id": "nXSg6wXpKw3f",
        "outputId": "7ab47fee-74c6-46f2-9018-27106dd37765",
        "colab": {
          "base_uri": "https://localhost:8080/",
          "height": 136
        }
      },
      "source": [
        "Ytrain"
      ],
      "execution_count": null,
      "outputs": [
        {
          "output_type": "execute_result",
          "data": {
            "text/plain": [
              "array([[6],\n",
              "       [9],\n",
              "       [9],\n",
              "       ...,\n",
              "       [9],\n",
              "       [1],\n",
              "       [1]], dtype=uint8)"
            ]
          },
          "metadata": {
            "tags": []
          },
          "execution_count": 6
        }
      ]
    },
    {
      "cell_type": "code",
      "metadata": {
        "id": "AKsGeTmDKw3m",
        "outputId": "be9327e5-ca89-4494-cefb-eb0cc6c52280",
        "colab": {
          "base_uri": "https://localhost:8080/",
          "height": 136
        }
      },
      "source": [
        "Ytest"
      ],
      "execution_count": null,
      "outputs": [
        {
          "output_type": "execute_result",
          "data": {
            "text/plain": [
              "array([[3],\n",
              "       [8],\n",
              "       [8],\n",
              "       ...,\n",
              "       [5],\n",
              "       [1],\n",
              "       [7]], dtype=uint8)"
            ]
          },
          "metadata": {
            "tags": []
          },
          "execution_count": 7
        }
      ]
    },
    {
      "cell_type": "markdown",
      "metadata": {
        "id": "R9Zkrw6dKw3s"
      },
      "source": [
        "#### b. Print the shapes of train and test data."
      ]
    },
    {
      "cell_type": "code",
      "metadata": {
        "id": "dNE-o6CaKw3t",
        "outputId": "27aa912b-6051-491e-f57a-bbc66f2ab330",
        "colab": {
          "base_uri": "https://localhost:8080/",
          "height": 85
        }
      },
      "source": [
        "# size of the datsets\n",
        "\n",
        "print(Xtrain.shape)\n",
        "print(Xtest.shape)\n",
        "print(Ytrain.shape)\n",
        "print(Ytest.shape)"
      ],
      "execution_count": 10,
      "outputs": [
        {
          "output_type": "stream",
          "text": [
            "(50000, 32, 32, 3)\n",
            "(10000, 32, 32, 3)\n",
            "(50000, 1)\n",
            "(10000, 1)\n"
          ],
          "name": "stdout"
        }
      ]
    },
    {
      "cell_type": "markdown",
      "metadata": {
        "id": "tD_T493eKw36"
      },
      "source": [
        "## 3. Data Pre-processing (0.25 mark)"
      ]
    },
    {
      "cell_type": "markdown",
      "metadata": {
        "id": "ZcaFZYGPKw38"
      },
      "source": [
        "#### a. Bring the train and test data in the required format."
      ]
    },
    {
      "cell_type": "code",
      "metadata": {
        "id": "4rZc3XucKw39"
      },
      "source": [
        "# Normalize the data\n",
        "# 50000 input images are in the train set.\n",
        "# 10000 input images are in the test set.\n",
        "\n",
        "Xtrain = Xtrain.reshape((50000,32,32,3))    # reshape the input set to size 28*28. \n",
        "Xtrain = Xtrain.astype('float32')/255      # normalize to grayscale; set datatype as float32\n",
        "\n",
        "Xtest = Xtest.reshape((10000,32,32,3))      # reshape the input set to size 28*28. \n",
        "Xtest = Xtest.astype('float32')/255        # normalize to grayscale; set datatype as float32\n",
        "\n",
        "Ytrain = tf.keras.utils.to_categorical(Ytrain)\n",
        "Ytest = tf.keras.utils.to_categorical(Ytest)"
      ],
      "execution_count": 11,
      "outputs": []
    },
    {
      "cell_type": "code",
      "metadata": {
        "id": "GUbVQM9wKw4F",
        "outputId": "b01a73d5-d17d-41d8-c385-04dba2cad891",
        "colab": {
          "base_uri": "https://localhost:8080/",
          "height": 85
        }
      },
      "source": [
        "\n",
        "print(Xtrain.shape)\n",
        "print(Xtest.shape)\n",
        "print(Ytrain.shape)\n",
        "print(Ytest.shape)"
      ],
      "execution_count": 12,
      "outputs": [
        {
          "output_type": "stream",
          "text": [
            "(50000, 32, 32, 3)\n",
            "(10000, 32, 32, 3)\n",
            "(50000, 10)\n",
            "(10000, 10)\n"
          ],
          "name": "stdout"
        }
      ]
    },
    {
      "cell_type": "markdown",
      "metadata": {
        "id": "fVoHDGOkKw4M"
      },
      "source": [
        "## 4. Model Building (0.2*5 = 1 mark)"
      ]
    },
    {
      "cell_type": "markdown",
      "metadata": {
        "id": "mNRiiqJ2Kw4N"
      },
      "source": [
        "a. Sequential Model layers- Use AT LEAST 3 dense layers with appropriate input for each. Choose the best number for hidden units and give reasons.\n",
        "<br> b. Add L2 regularization to all the layers.\n",
        "<br> c. Add one layer of dropout at the appropriate position and give reasons.\n",
        "<br> d. Choose the appropriate activation function for all the layers.\n",
        "<br> e. Print the model summary."
      ]
    },
    {
      "cell_type": "markdown",
      "metadata": {
        "id": "i4oQY0DKKw4O"
      },
      "source": [
        "Using Keras, create the DNN or Sequential Model"
      ]
    },
    {
      "cell_type": "code",
      "metadata": {
        "id": "UR86OByJKw4S"
      },
      "source": [
        "# Create a Sequential model object\n",
        "cnnModel = models.Sequential()\n"
      ],
      "execution_count": 13,
      "outputs": []
    },
    {
      "cell_type": "markdown",
      "metadata": {
        "id": "34q1SGSVKw4Y"
      },
      "source": [
        "Add dense layers, specifying the number of units in each layer and the activation function used in the layer."
      ]
    },
    {
      "cell_type": "code",
      "metadata": {
        "id": "Okk4kHDmKw4a"
      },
      "source": [
        "cnnModel.add(layers.Conv2D(32, (3, 3), activation='relu', kernel_initializer='he_uniform', padding='same', input_shape=(32, 32, 3)))\n",
        "cnnModel.add(layers.Conv2D(32, (3, 3), activation='relu', kernel_initializer='he_uniform', padding='same'))\n",
        "cnnModel.add(layers.MaxPooling2D((2, 2)))\n",
        "cnnModel.add(Dropout(0.2))\n",
        "cnnModel.add(layers.Conv2D(64, (3, 3), activation='relu', kernel_initializer='he_uniform', padding='same'))\n",
        "cnnModel.add(layers.Conv2D(64, (3, 3), activation='relu', kernel_initializer='he_uniform', padding='same'))\n",
        "cnnModel.add(layers.MaxPooling2D((2, 2)))\n",
        "cnnModel.add(Dropout(0.2))\n",
        "cnnModel.add(layers.Conv2D(128, (3, 3), activation='relu', kernel_initializer='he_uniform', padding='same'))\n",
        "cnnModel.add(layers.Conv2D(128, (3, 3), activation='relu', kernel_initializer='he_uniform', padding='same'))\n",
        "cnnModel.add(layers.MaxPooling2D((2, 2)))\n",
        "cnnModel.add(Dropout(0.2))\n",
        "cnnModel.add(Flatten())\n",
        "cnnModel.add(Dense(128, activation='relu', kernel_initializer='he_uniform'))\n",
        "cnnModel.add(Dropout(0.2))\n",
        "cnnModel.add(Dense(10, activation='softmax'))"
      ],
      "execution_count": 14,
      "outputs": []
    },
    {
      "cell_type": "markdown",
      "metadata": {
        "id": "FI3IG1Z4Kw4k"
      },
      "source": [
        "## 5. Model Compilation (0.25 mark)\n",
        "#### Regularization and Optimizations of DNN"
      ]
    },
    {
      "cell_type": "code",
      "metadata": {
        "id": "XSTUeSC6Kw4l"
      },
      "source": [
        "# Configure  the model for training, by using appropriate optimizers and regularizations\n",
        "# Available optimizer: adam, rmsprop, adagrad, sgd\n",
        "# loss:  objective that the model will try to minimize. \n",
        "# Available loss: categorical_crossentropy, binary_crossentropy, mean_squared_error\n",
        "# metrics: List of metrics to be evaluated by the model during training and testing. \n",
        "        \n",
        "cnnModel.compile( optimizer = 'adam', loss = 'categorical_crossentropy', metrics=['accuracy'] )"
      ],
      "execution_count": 15,
      "outputs": []
    },
    {
      "cell_type": "markdown",
      "metadata": {
        "id": "1hRGBPLIKw4u"
      },
      "source": [
        "## 6. Model Training (0.5 + 0.5 = 1 mark)"
      ]
    },
    {
      "cell_type": "markdown",
      "metadata": {
        "id": "MwOmVED_Kw4y"
      },
      "source": [
        "#### a. Train the model for an appropriate number of epochs (print the train and validation accuracy/loss for each epoch). Use the appropriate batch size."
      ]
    },
    {
      "cell_type": "code",
      "metadata": {
        "id": "_DDwNVbBKw4z",
        "outputId": "e02a0163-acdb-404c-efa3-f8ac827b70ad",
        "colab": {
          "base_uri": "https://localhost:8080/",
          "height": 867
        }
      },
      "source": [
        "#h = dnnModel.fit( Xtrain, Ytrain, epochs=100, batch_size=64,validation_data=(Xtest, Ytest), verbose=0)\n",
        "\n",
        "h = cnnModel.fit( Xtrain, Ytrain, epochs=25, validation_split=0.2, batch_size=64)"
      ],
      "execution_count": 16,
      "outputs": [
        {
          "output_type": "stream",
          "text": [
            "Epoch 1/25\n",
            "625/625 [==============================] - 4s 7ms/step - loss: 1.7991 - accuracy: 0.3327 - val_loss: 1.3933 - val_accuracy: 0.4946\n",
            "Epoch 2/25\n",
            "625/625 [==============================] - 4s 7ms/step - loss: 1.3168 - accuracy: 0.5265 - val_loss: 1.0475 - val_accuracy: 0.6297\n",
            "Epoch 3/25\n",
            "625/625 [==============================] - 4s 7ms/step - loss: 1.0891 - accuracy: 0.6142 - val_loss: 0.9146 - val_accuracy: 0.6756\n",
            "Epoch 4/25\n",
            "625/625 [==============================] - 4s 7ms/step - loss: 0.9500 - accuracy: 0.6665 - val_loss: 0.8290 - val_accuracy: 0.7084\n",
            "Epoch 5/25\n",
            "625/625 [==============================] - 4s 7ms/step - loss: 0.8547 - accuracy: 0.7014 - val_loss: 0.7651 - val_accuracy: 0.7328\n",
            "Epoch 6/25\n",
            "625/625 [==============================] - 4s 7ms/step - loss: 0.7722 - accuracy: 0.7302 - val_loss: 0.7169 - val_accuracy: 0.7503\n",
            "Epoch 7/25\n",
            "625/625 [==============================] - 4s 7ms/step - loss: 0.7187 - accuracy: 0.7490 - val_loss: 0.6921 - val_accuracy: 0.7611\n",
            "Epoch 8/25\n",
            "625/625 [==============================] - 4s 7ms/step - loss: 0.6646 - accuracy: 0.7668 - val_loss: 0.6640 - val_accuracy: 0.7702\n",
            "Epoch 9/25\n",
            "625/625 [==============================] - 4s 6ms/step - loss: 0.6243 - accuracy: 0.7800 - val_loss: 0.6633 - val_accuracy: 0.7719\n",
            "Epoch 10/25\n",
            "625/625 [==============================] - 4s 7ms/step - loss: 0.5943 - accuracy: 0.7909 - val_loss: 0.6243 - val_accuracy: 0.7882\n",
            "Epoch 11/25\n",
            "625/625 [==============================] - 4s 7ms/step - loss: 0.5579 - accuracy: 0.8041 - val_loss: 0.6493 - val_accuracy: 0.7787\n",
            "Epoch 12/25\n",
            "625/625 [==============================] - 4s 7ms/step - loss: 0.5308 - accuracy: 0.8153 - val_loss: 0.6333 - val_accuracy: 0.7921\n",
            "Epoch 13/25\n",
            "625/625 [==============================] - 4s 7ms/step - loss: 0.5092 - accuracy: 0.8211 - val_loss: 0.6111 - val_accuracy: 0.7957\n",
            "Epoch 14/25\n",
            "625/625 [==============================] - 4s 7ms/step - loss: 0.4928 - accuracy: 0.8279 - val_loss: 0.6260 - val_accuracy: 0.7941\n",
            "Epoch 15/25\n",
            "625/625 [==============================] - 4s 7ms/step - loss: 0.4659 - accuracy: 0.8347 - val_loss: 0.6128 - val_accuracy: 0.8025\n",
            "Epoch 16/25\n",
            "625/625 [==============================] - 4s 6ms/step - loss: 0.4500 - accuracy: 0.8423 - val_loss: 0.6263 - val_accuracy: 0.7992\n",
            "Epoch 17/25\n",
            "625/625 [==============================] - 4s 7ms/step - loss: 0.4369 - accuracy: 0.8449 - val_loss: 0.6940 - val_accuracy: 0.7871\n",
            "Epoch 18/25\n",
            "625/625 [==============================] - 4s 7ms/step - loss: 0.4138 - accuracy: 0.8526 - val_loss: 0.6242 - val_accuracy: 0.8039\n",
            "Epoch 19/25\n",
            "625/625 [==============================] - 4s 7ms/step - loss: 0.4070 - accuracy: 0.8554 - val_loss: 0.6384 - val_accuracy: 0.7971\n",
            "Epoch 20/25\n",
            "625/625 [==============================] - 4s 7ms/step - loss: 0.3968 - accuracy: 0.8600 - val_loss: 0.6575 - val_accuracy: 0.7961\n",
            "Epoch 21/25\n",
            "625/625 [==============================] - 4s 7ms/step - loss: 0.3765 - accuracy: 0.8675 - val_loss: 0.6338 - val_accuracy: 0.8037\n",
            "Epoch 22/25\n",
            "625/625 [==============================] - 4s 6ms/step - loss: 0.3795 - accuracy: 0.8660 - val_loss: 0.6438 - val_accuracy: 0.7959\n",
            "Epoch 23/25\n",
            "625/625 [==============================] - 4s 6ms/step - loss: 0.3662 - accuracy: 0.8705 - val_loss: 0.6517 - val_accuracy: 0.8024\n",
            "Epoch 24/25\n",
            "625/625 [==============================] - 4s 7ms/step - loss: 0.3472 - accuracy: 0.8769 - val_loss: 0.6454 - val_accuracy: 0.8108\n",
            "Epoch 25/25\n",
            "625/625 [==============================] - 4s 7ms/step - loss: 0.3427 - accuracy: 0.8781 - val_loss: 0.6545 - val_accuracy: 0.8065\n"
          ],
          "name": "stdout"
        }
      ]
    },
    {
      "cell_type": "markdown",
      "metadata": {
        "id": "s-YXA5NgKw5K"
      },
      "source": [
        "#### b. Plot the loss and accuracy history graphs. Print the total time taken for training."
      ]
    },
    {
      "cell_type": "code",
      "metadata": {
        "id": "M8Sjw0AKKw5L",
        "outputId": "0d296fc7-5496-4888-c8e3-40fae29384d1",
        "colab": {
          "base_uri": "https://localhost:8080/",
          "height": 51
        }
      },
      "source": [
        "print('Final training loss \\t', h.history['loss'][-1])\n",
        "print('Final training accuracy ', h.history['accuracy'][-1])"
      ],
      "execution_count": 17,
      "outputs": [
        {
          "output_type": "stream",
          "text": [
            "Final training loss \t 0.3426656126976013\n",
            "Final training accuracy  0.8781499862670898\n"
          ],
          "name": "stdout"
        }
      ]
    },
    {
      "cell_type": "code",
      "metadata": {
        "id": "4Eeus-0PKw5Q",
        "outputId": "bab88407-9878-4611-8cb7-6e758a8fb977",
        "colab": {
          "base_uri": "https://localhost:8080/",
          "height": 295
        }
      },
      "source": [
        "# plot the training  accuracy  \n",
        "import matplotlib.pyplot as plt\n",
        "\n",
        "plt.plot(h.history['accuracy'], label='train')\n",
        "plt.plot(h.history['val_accuracy'], label='validation')\n",
        "plt.xlabel('Epochs')\n",
        "plt.ylabel('Loss')\n",
        "plt.title('Plot of Accuracy')\n",
        "plt.legend()\n",
        "plt.show()"
      ],
      "execution_count": 18,
      "outputs": [
        {
          "output_type": "display_data",
          "data": {
            "image/png": "[encoded data removed]",
            "text/plain": [
              "<Figure size 432x288 with 1 Axes>"
            ]
          },
          "metadata": {
            "tags": [],
            "needs_background": "light"
          }
        }
      ]
    },
    {
      "cell_type": "code",
      "metadata": {
        "id": "rqCFuIUsKw5a",
        "outputId": "30c71313-6227-4347-b2ae-56d94cdc6a9f",
        "colab": {
          "base_uri": "https://localhost:8080/",
          "height": 295
        }
      },
      "source": [
        "# plot the traininig loss \n",
        "\n",
        "\n",
        "plt.plot(h.history['loss'], label='train')\n",
        "plt.plot(h.history['val_loss'], label='validation')\n",
        "plt.xlabel('Epochs')\n",
        "plt.ylabel('Loss')\n",
        "plt.title('Plot of Loss')\n",
        "plt.legend()\n",
        "plt.show()"
      ],
      "execution_count": 19,
      "outputs": [
        {
          "output_type": "display_data",
          "data": {
            "image/png": "[encoded data removed]",
            "text/plain": [
              "<Figure size 432x288 with 1 Axes>"
            ]
          },
          "metadata": {
            "tags": [],
            "needs_background": "light"
          }
        }
      ]
    },
    {
      "cell_type": "markdown",
      "metadata": {
        "id": "cCbpYQw0Kw52"
      },
      "source": [
        "## 7. Model Evaluation (0.25 + 0.75 = 1 mark)"
      ]
    },
    {
      "cell_type": "code",
      "metadata": {
        "id": "DvwopVIdKw53",
        "outputId": "5e841bbc-5431-4604-e51d-1cabe568b70f",
        "colab": {
          "base_uri": "https://localhost:8080/",
          "height": 34
        }
      },
      "source": [
        "# testing the model\n",
        "\n",
        "testLoss, testAccuracy = cnnModel.evaluate( Xtest, Ytest)"
      ],
      "execution_count": 20,
      "outputs": [
        {
          "output_type": "stream",
          "text": [
            "313/313 [==============================] - 1s 3ms/step - loss: 0.6667 - accuracy: 0.8009\n"
          ],
          "name": "stdout"
        }
      ]
    },
    {
      "cell_type": "markdown",
      "metadata": {
        "id": "gMioIYjJoaXE"
      },
      "source": [
        "a. Print the final test/validation loss and accuracy."
      ]
    },
    {
      "cell_type": "code",
      "metadata": {
        "id": "YlB4sQkHKw6F",
        "outputId": "ac31bd44-f09b-41c0-f476-81252337f2cf",
        "colab": {
          "base_uri": "https://localhost:8080/",
          "height": 51
        }
      },
      "source": [
        "print('Testing loss \\t', testLoss)\n",
        "print('Testing accuracy ', testAccuracy)"
      ],
      "execution_count": 21,
      "outputs": [
        {
          "output_type": "stream",
          "text": [
            "Testing loss \t 0.666746973991394\n",
            "Testing accuracy  0.8008999824523926\n"
          ],
          "name": "stdout"
        }
      ]
    },
    {
      "cell_type": "markdown",
      "metadata": {
        "id": "5YCZ1uPFotl1"
      },
      "source": [
        "b. Print confusion matrix and classification report for the validation dataset. Write a summary for the best and worst performing class and the overall trend."
      ]
    },
    {
      "cell_type": "code",
      "metadata": {
        "id": "7GLcX0jDowQU"
      },
      "source": [
        "yPred = cnnModel.predict_classes(Xtest)\n",
        "yPred_probabilities = cnnModel.predict(Xtest)\n"
      ],
      "execution_count": 29,
      "outputs": []
    },
    {
      "cell_type": "code",
      "metadata": {
        "id": "tXu_-li0vxn0",
        "outputId": "53277aa6-5ec2-494c-fef9-3c5f50efbc9a",
        "colab": {
          "base_uri": "https://localhost:8080/",
          "height": 34
        }
      },
      "source": [
        "yPred"
      ],
      "execution_count": 30,
      "outputs": [
        {
          "output_type": "execute_result",
          "data": {
            "text/plain": [
              "array([3, 8, 8, ..., 5, 1, 7])"
            ]
          },
          "metadata": {
            "tags": []
          },
          "execution_count": 30
        }
      ]
    },
    {
      "cell_type": "code",
      "metadata": {
        "id": "lPaW0AiE0O4t",
        "outputId": "e5d0e4b5-ab9e-4359-e1c3-3f8a51534a38",
        "colab": {
          "base_uri": "https://localhost:8080/",
          "height": 238
        }
      },
      "source": [
        "yPred_probabilities"
      ],
      "execution_count": 31,
      "outputs": [
        {
          "output_type": "execute_result",
          "data": {
            "text/plain": [
              "array([[5.76920102e-05, 1.97112284e-04, 5.49199001e-04, ...,\n",
              "        5.58892389e-05, 1.80158298e-03, 7.28867017e-05],\n",
              "       [2.60380602e-05, 4.49570715e-02, 3.66341115e-12, ...,\n",
              "        5.13391343e-18, 9.54984009e-01, 3.28915303e-05],\n",
              "       [3.65756191e-02, 3.32714647e-01, 2.79862038e-03, ...,\n",
              "        3.30785006e-05, 5.82735777e-01, 4.35943268e-02],\n",
              "       ...,\n",
              "       [3.33892934e-13, 6.76145121e-13, 7.17925286e-05, ...,\n",
              "        2.44021362e-06, 2.96599290e-12, 9.34378616e-11],\n",
              "       [1.71004231e-05, 9.95543540e-01, 3.26449299e-05, ...,\n",
              "        4.93553557e-07, 7.50381218e-07, 4.34685173e-03],\n",
              "       [1.74003480e-18, 4.71429820e-21, 1.48813517e-10, ...,\n",
              "        9.99978304e-01, 4.84203200e-19, 1.04143435e-19]], dtype=float32)"
            ]
          },
          "metadata": {
            "tags": []
          },
          "execution_count": 31
        }
      ]
    },
    {
      "cell_type": "code",
      "metadata": {
        "id": "r2JHQTgC0UR2",
        "outputId": "999daa2c-0c1a-4b95-c16c-4fc527f3b3c8",
        "colab": {
          "base_uri": "https://localhost:8080/",
          "height": 544
        }
      },
      "source": [
        "yTest_original=np.argmax(Ytest,axis=1)\n",
        "from sklearn.metrics import classification_report,confusion_matrix,plot_confusion_matrix\n",
        "print(\"Classification report \\n=======================\")\n",
        "print(classification_report(y_true=yTest_original, y_pred=yPred))\n",
        "print(\"Confusion matrix \\n=======================\")\n",
        "print(confusion_matrix(y_true=yTest_original, y_pred=yPred))"
      ],
      "execution_count": 40,
      "outputs": [
        {
          "output_type": "stream",
          "text": [
            "Classification report \n",
            "=======================\n",
            "              precision    recall  f1-score   support\n",
            "\n",
            "           0       0.86      0.78      0.82      1000\n",
            "           1       0.92      0.87      0.89      1000\n",
            "           2       0.69      0.75      0.72      1000\n",
            "           3       0.66      0.59      0.63      1000\n",
            "           4       0.76      0.81      0.78      1000\n",
            "           5       0.75      0.72      0.74      1000\n",
            "           6       0.84      0.86      0.85      1000\n",
            "           7       0.83      0.84      0.83      1000\n",
            "           8       0.89      0.88      0.88      1000\n",
            "           9       0.81      0.92      0.86      1000\n",
            "\n",
            "    accuracy                           0.80     10000\n",
            "   macro avg       0.80      0.80      0.80     10000\n",
            "weighted avg       0.80      0.80      0.80     10000\n",
            "\n",
            "Confusion matrix \n",
            "=======================\n",
            "[[780  15  60  12  11   1   8   9  52  52]\n",
            " [  6 873   5   3   2   1   5   0  16  89]\n",
            " [ 41   2 746  26  75  38  43  19   6   4]\n",
            " [ 16   5  77 592  56 138  49  37   9  21]\n",
            " [  6   2  40  58 806  14  26  42   4   2]\n",
            " [  3   2  55 112  32 719  18  52   3   4]\n",
            " [  4   2  44  49  26   7 858   5   4   1]\n",
            " [  8   3  32  24  46  30   6 837   3  11]\n",
            " [ 41  13  10   8   1   5   6   4 878  34]\n",
            " [  7  35   6   7   3   3   4   3  12 920]]\n"
          ],
          "name": "stdout"
        }
      ]
    },
    {
      "cell_type": "code",
      "metadata": {
        "id": "c0cpmGPy1Yyp"
      },
      "source": [
        ""
      ],
      "execution_count": null,
      "outputs": []
    }
  ]
}